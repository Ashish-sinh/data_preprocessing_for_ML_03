{
 "cells": [
  {
   "cell_type": "code",
   "execution_count": 45,
   "id": "b4e675c0",
   "metadata": {},
   "outputs": [],
   "source": [
    "#outliear detection removing : normal_distribution "
   ]
  },
  {
   "cell_type": "code",
   "execution_count": 14,
   "id": "f9a59a89",
   "metadata": {},
   "outputs": [],
   "source": [
    "import numpy as np \n",
    "import pandas as pd \n",
    "from sklearn.datasets import make_regression \n",
    "\n",
    "x , y = make_regression(n_samples= 100 , n_features= 4 , noise= 20) \n",
    "df = pd.DataFrame(x)\n",
    "df['target'] = y\n",
    "import seaborn as sns "
   ]
  },
  {
   "cell_type": "code",
   "execution_count": 27,
   "id": "3eb603ae",
   "metadata": {},
   "outputs": [
    {
     "name": "stderr",
     "output_type": "stream",
     "text": [
      "/var/folders/0s/mb0_47nd00vb9xhzh52jg6z00000gn/T/ipykernel_29347/2411426060.py:4: UserWarning: \n",
      "\n",
      "`distplot` is a deprecated function and will be removed in seaborn v0.14.0.\n",
      "\n",
      "Please adapt your code to use either `displot` (a figure-level function with\n",
      "similar flexibility) or `histplot` (an axes-level function for histograms).\n",
      "\n",
      "For a guide to updating your code to use the new functions, please see\n",
      "https://gist.github.com/mwaskom/de44147ed2974457ad6372750bbe5751\n",
      "\n",
      "  sns.distplot(df[3])\n"
     ]
    },
    {
     "data": {
      "image/png": "[encoded data removed]",
      "text/plain": [
       "<Figure size 640x480 with 1 Axes>"
      ]
     },
     "metadata": {},
     "output_type": "display_data"
    }
   ],
   "source": [
    "import matplotlib.pyplot as plt \n",
    "df.columns\n",
    "\n",
    "sns.distplot(df[3])\n",
    "plt.show()"
   ]
  },
  {
   "cell_type": "code",
   "execution_count": 31,
   "id": "6f38752e",
   "metadata": {},
   "outputs": [
    {
     "name": "stdout",
     "output_type": "stream",
     "text": [
      "0.07304190415838743\n",
      "0.9539994327269983\n",
      "-2.431436417675275\n",
      "1.904449679072035\n"
     ]
    }
   ],
   "source": [
    "print(df[3].mean())\n",
    "print(df[3].std())\n",
    "print(df[3].min())\n",
    "print(df[3].max())"
   ]
  },
  {
   "cell_type": "code",
   "execution_count": 32,
   "id": "39f55908",
   "metadata": {},
   "outputs": [
    {
     "name": "stdout",
     "output_type": "stream",
     "text": [
      "2.9350402023393825\n",
      "-2.788956394022607\n"
     ]
    }
   ],
   "source": [
    "#fitting the bountry values : \n",
    "lower_bountry = df[3].mean()+ 3* df[3].std()\n",
    "upper_bountry = df[3].mean()- 3* df[3].std()\n",
    "print(lower_bountry)\n",
    "print(upper_bountry)"
   ]
  },
  {
   "cell_type": "code",
   "execution_count": 39,
   "id": "9e813d26",
   "metadata": {},
   "outputs": [
    {
     "data": {
      "text/html": [
       "<div>\n",
       "<style scoped>\n",
       "    .dataframe tbody tr th:only-of-type {\n",
       "        vertical-align: middle;\n",
       "    }\n",
       "\n",
       "    .dataframe tbody tr th {\n",
       "        vertical-align: top;\n",
       "    }\n",
       "\n",
       "    .dataframe thead th {\n",
       "        text-align: right;\n",
       "    }\n",
       "</style>\n",
       "<table border=\"1\" class=\"dataframe\">\n",
       "  <thead>\n",
       "    <tr style=\"text-align: right;\">\n",
       "      <th></th>\n",
       "      <th>0</th>\n",
       "      <th>1</th>\n",
       "      <th>2</th>\n",
       "      <th>3</th>\n",
       "      <th>target</th>\n",
       "    </tr>\n",
       "  </thead>\n",
       "  <tbody>\n",
       "    <tr>\n",
       "      <th>0</th>\n",
       "      <td>1.195739</td>\n",
       "      <td>0.409336</td>\n",
       "      <td>0.351664</td>\n",
       "      <td>-0.423783</td>\n",
       "      <td>1.056868</td>\n",
       "    </tr>\n",
       "    <tr>\n",
       "      <th>1</th>\n",
       "      <td>-1.443011</td>\n",
       "      <td>-1.257655</td>\n",
       "      <td>-0.001601</td>\n",
       "      <td>1.107998</td>\n",
       "      <td>42.471567</td>\n",
       "    </tr>\n",
       "    <tr>\n",
       "      <th>2</th>\n",
       "      <td>-0.047221</td>\n",
       "      <td>-1.809685</td>\n",
       "      <td>1.113415</td>\n",
       "      <td>1.656954</td>\n",
       "      <td>90.933801</td>\n",
       "    </tr>\n",
       "    <tr>\n",
       "      <th>3</th>\n",
       "      <td>0.972690</td>\n",
       "      <td>0.424346</td>\n",
       "      <td>-0.206431</td>\n",
       "      <td>0.929169</td>\n",
       "      <td>100.002908</td>\n",
       "    </tr>\n",
       "    <tr>\n",
       "      <th>4</th>\n",
       "      <td>0.997112</td>\n",
       "      <td>0.080060</td>\n",
       "      <td>-0.379195</td>\n",
       "      <td>-0.901484</td>\n",
       "      <td>-48.660490</td>\n",
       "    </tr>\n",
       "    <tr>\n",
       "      <th>...</th>\n",
       "      <td>...</td>\n",
       "      <td>...</td>\n",
       "      <td>...</td>\n",
       "      <td>...</td>\n",
       "      <td>...</td>\n",
       "    </tr>\n",
       "    <tr>\n",
       "      <th>95</th>\n",
       "      <td>0.656521</td>\n",
       "      <td>-2.630845</td>\n",
       "      <td>0.424906</td>\n",
       "      <td>0.139740</td>\n",
       "      <td>-45.521088</td>\n",
       "    </tr>\n",
       "    <tr>\n",
       "      <th>96</th>\n",
       "      <td>0.092294</td>\n",
       "      <td>-0.674629</td>\n",
       "      <td>0.429272</td>\n",
       "      <td>-0.051885</td>\n",
       "      <td>-13.535432</td>\n",
       "    </tr>\n",
       "    <tr>\n",
       "      <th>97</th>\n",
       "      <td>-0.522449</td>\n",
       "      <td>-2.197642</td>\n",
       "      <td>1.263648</td>\n",
       "      <td>-0.855530</td>\n",
       "      <td>-133.060585</td>\n",
       "    </tr>\n",
       "    <tr>\n",
       "      <th>98</th>\n",
       "      <td>-0.298185</td>\n",
       "      <td>-1.585914</td>\n",
       "      <td>-0.662009</td>\n",
       "      <td>-0.754361</td>\n",
       "      <td>-167.939752</td>\n",
       "    </tr>\n",
       "    <tr>\n",
       "      <th>99</th>\n",
       "      <td>0.042202</td>\n",
       "      <td>0.707829</td>\n",
       "      <td>-0.148804</td>\n",
       "      <td>1.207489</td>\n",
       "      <td>101.640865</td>\n",
       "    </tr>\n",
       "  </tbody>\n",
       "</table>\n",
       "<p>100 rows × 5 columns</p>\n",
       "</div>"
      ],
      "text/plain": [
       "           0         1         2         3      target\n",
       "0   1.195739  0.409336  0.351664 -0.423783    1.056868\n",
       "1  -1.443011 -1.257655 -0.001601  1.107998   42.471567\n",
       "2  -0.047221 -1.809685  1.113415  1.656954   90.933801\n",
       "3   0.972690  0.424346 -0.206431  0.929169  100.002908\n",
       "4   0.997112  0.080060 -0.379195 -0.901484  -48.660490\n",
       "..       ...       ...       ...       ...         ...\n",
       "95  0.656521 -2.630845  0.424906  0.139740  -45.521088\n",
       "96  0.092294 -0.674629  0.429272 -0.051885  -13.535432\n",
       "97 -0.522449 -2.197642  1.263648 -0.855530 -133.060585\n",
       "98 -0.298185 -1.585914 -0.662009 -0.754361 -167.939752\n",
       "99  0.042202  0.707829 -0.148804  1.207489  101.640865\n",
       "\n",
       "[100 rows x 5 columns]"
      ]
     },
     "execution_count": 39,
     "metadata": {},
     "output_type": "execute_result"
    }
   ],
   "source": [
    "df[(df[3] <lower_bountry ) | (df[3] > upper_bountry)] "
   ]
  },
  {
   "cell_type": "code",
   "execution_count": 40,
   "id": "4a0f940e",
   "metadata": {},
   "outputs": [],
   "source": [
    "# triming : \n",
    "\n",
    "new_df = df[(df[3] <lower_bountry ) | (df[3] > upper_bountry)]  \n",
    "# have only that values which follow the bounty level "
   ]
  },
  {
   "cell_type": "code",
   "execution_count": 41,
   "id": "ebed0ae2",
   "metadata": {},
   "outputs": [],
   "source": [
    "# capping : \n",
    "df[df[3]< lower_bountry][3] = lower_bountry \n",
    "df[df[3]> upper_bountry][3] = upper_bountry \n"
   ]
  },
  {
   "cell_type": "code",
   "execution_count": 44,
   "id": "8190ce70",
   "metadata": {},
   "outputs": [],
   "source": [
    "# z-score : again it is like a triming  \n",
    "#z score = ( Xi - mean() )  // standard Deviation \n",
    "# take that datapoint which in range( -3, 3) \n",
    "\n",
    "df['z_score'] = (df[3] - df[3].mean())/df[3].std() \n",
    "nw_data = df[(df['z_score']<-3 ) | (df['z_score'] > 3)] \n"
   ]
  },
  {
   "cell_type": "code",
   "execution_count": null,
   "id": "ac3efe84",
   "metadata": {},
   "outputs": [],
   "source": []
  }
 ],
 "metadata": {
  "kernelspec": {
   "display_name": "Python 3 (ipykernel)",
   "language": "python",
   "name": "python3"
  },
  "language_info": {
   "codemirror_mode": {
    "name": "ipython",
    "version": 3
   },
   "file_extension": ".py",
   "mimetype": "text/x-python",
   "name": "python",
   "nbconvert_exporter": "python",
   "pygments_lexer": "ipython3",
   "version": "3.9.16"
  }
 },
 "nbformat": 4,
 "nbformat_minor": 5
}
